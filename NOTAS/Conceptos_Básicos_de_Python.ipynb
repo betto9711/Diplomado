{
  "nbformat": 4,
  "nbformat_minor": 0,
  "metadata": {
    "colab": {
      "provenance": [],
      "include_colab_link": true
    },
    "kernelspec": {
      "name": "python3",
      "display_name": "Python 3"
    },
    "language_info": {
      "name": "python"
    }
  },
  "cells": [
    {
      "cell_type": "markdown",
      "metadata": {
        "id": "view-in-github",
        "colab_type": "text"
      },
      "source": [
        "<a href=\"https://colab.research.google.com/github/betto9711/Diplomado/blob/main/NOTAS/Conceptos_B%C3%A1sicos_de_Python.ipynb\" target=\"_parent\"><img src=\"https://colab.research.google.com/assets/colab-badge.svg\" alt=\"Open In Colab\"/></a>"
      ]
    },
    {
      "cell_type": "markdown",
      "source": [
        "Mi primer programa"
      ],
      "metadata": {
        "id": "JHhKigBW8Tkg"
      }
    },
    {
      "cell_type": "code",
      "source": [
        "print('Hola Mundo')"
      ],
      "metadata": {
        "colab": {
          "base_uri": "https://localhost:8080/"
        },
        "id": "mOlgVWaa8Y8j",
        "outputId": "4da4454d-b746-448c-9083-ab716228f4fc"
      },
      "execution_count": null,
      "outputs": [
        {
          "output_type": "stream",
          "name": "stdout",
          "text": [
            "Hola Mundo\n"
          ]
        }
      ]
    },
    {
      "cell_type": "markdown",
      "source": [
        "Variables"
      ],
      "metadata": {
        "id": "SndOq74r9DV1"
      }
    },
    {
      "cell_type": "code",
      "source": [
        "30+2*60"
      ],
      "metadata": {
        "colab": {
          "base_uri": "https://localhost:8080/"
        },
        "id": "iTxsCROy9GMf",
        "outputId": "c934cdc0-3bc8-4019-860f-8d9c11454643"
      },
      "execution_count": null,
      "outputs": [
        {
          "output_type": "execute_result",
          "data": {
            "text/plain": [
              "150"
            ]
          },
          "metadata": {},
          "execution_count": 2
        }
      ]
    },
    {
      "cell_type": "code",
      "source": [
        "x = 100\n",
        "y = x/12\n",
        "y"
      ],
      "metadata": {
        "colab": {
          "base_uri": "https://localhost:8080/"
        },
        "id": "a89XHI6I9QyP",
        "outputId": "9ed8193a-df47-4987-f428-18d49ca8df36"
      },
      "execution_count": null,
      "outputs": [
        {
          "output_type": "execute_result",
          "data": {
            "text/plain": [
              "8.333333333333334"
            ]
          },
          "metadata": {},
          "execution_count": 3
        }
      ]
    },
    {
      "cell_type": "markdown",
      "source": [
        "Operaciones String"
      ],
      "metadata": {
        "id": "pM1F-VKE9i6G"
      }
    },
    {
      "cell_type": "code",
      "source": [
        "name = 'Michael Jackson'"
      ],
      "metadata": {
        "id": "FMz89VQa9pyA"
      },
      "execution_count": null,
      "outputs": []
    },
    {
      "cell_type": "code",
      "source": [
        "colores = ('rojo', 'amarillo', 'verde', 'morado', 'azul')\n",
        "i = 0;\n",
        "while(colores [i] != 'morado'):\n",
        "  i +=1\n",
        ""
      ],
      "metadata": {
        "id": "13U3BSXGVrwV"
      },
      "execution_count": null,
      "outputs": []
    },
    {
      "cell_type": "markdown",
      "source": [
        "funciones"
      ],
      "metadata": {
        "id": "0xIeGKi9WaQB"
      }
    },
    {
      "cell_type": "code",
      "source": [
        "cadena = [1, 6, 7, 5, 9, 7, 80, 1]\n",
        "len(cadena)"
      ],
      "metadata": {
        "colab": {
          "base_uri": "https://localhost:8080/"
        },
        "id": "0xJci_IOWc4x",
        "outputId": "bc905c5b-3592-4109-8b16-0a68b7f58690"
      },
      "execution_count": null,
      "outputs": [
        {
          "output_type": "execute_result",
          "data": {
            "text/plain": [
              "8"
            ]
          },
          "metadata": {},
          "execution_count": 15
        }
      ]
    },
    {
      "cell_type": "code",
      "source": [
        "sum(cadena)"
      ],
      "metadata": {
        "colab": {
          "base_uri": "https://localhost:8080/"
        },
        "id": "1-91hzWVW3i4",
        "outputId": "5f1cd960-c42d-49bc-a57d-ddf2cbdd2a8c"
      },
      "execution_count": null,
      "outputs": [
        {
          "output_type": "execute_result",
          "data": {
            "text/plain": [
              "116"
            ]
          },
          "metadata": {},
          "execution_count": 16
        }
      ]
    },
    {
      "cell_type": "code",
      "source": [
        "sorted(cadena)"
      ],
      "metadata": {
        "colab": {
          "base_uri": "https://localhost:8080/"
        },
        "id": "rvv8Pw13W9eV",
        "outputId": "0ba08847-edbd-4846-9c50-cdec8bcf1454"
      },
      "execution_count": null,
      "outputs": [
        {
          "output_type": "execute_result",
          "data": {
            "text/plain": [
              "[1, 1, 5, 6, 7, 7, 9, 80]"
            ]
          },
          "metadata": {},
          "execution_count": 17
        }
      ]
    },
    {
      "cell_type": "code",
      "source": [
        "def doble(x):\n",
        "  y= 2*x\n",
        "  return y"
      ],
      "metadata": {
        "id": "54u84uxCXDYT"
      },
      "execution_count": null,
      "outputs": []
    },
    {
      "cell_type": "code",
      "source": [
        "doble(5)"
      ],
      "metadata": {
        "colab": {
          "base_uri": "https://localhost:8080/"
        },
        "id": "QwnlJG0RXSZw",
        "outputId": "0dc236c4-ee98-4686-c1ca-8618531d3194"
      },
      "execution_count": null,
      "outputs": [
        {
          "output_type": "execute_result",
          "data": {
            "text/plain": [
              "10"
            ]
          },
          "metadata": {},
          "execution_count": 19
        }
      ]
    },
    {
      "cell_type": "code",
      "source": [
        "doble(4, 5)"
      ],
      "metadata": {
        "colab": {
          "base_uri": "https://localhost:8080/",
          "height": 165
        },
        "id": "rPI4ET-iXXCZ",
        "outputId": "ef9e6691-98d6-4ec4-f424-62205b1ac2f3"
      },
      "execution_count": null,
      "outputs": [
        {
          "output_type": "error",
          "ename": "TypeError",
          "evalue": "ignored",
          "traceback": [
            "\u001b[0;31m---------------------------------------------------------------------------\u001b[0m",
            "\u001b[0;31mTypeError\u001b[0m                                 Traceback (most recent call last)",
            "\u001b[0;32m<ipython-input-21-fd650e38fc8c>\u001b[0m in \u001b[0;36m<cell line: 1>\u001b[0;34m()\u001b[0m\n\u001b[0;32m----> 1\u001b[0;31m \u001b[0mdoble\u001b[0m\u001b[0;34m(\u001b[0m\u001b[0;36m4\u001b[0m\u001b[0;34m,\u001b[0m \u001b[0;36m5\u001b[0m\u001b[0;34m)\u001b[0m\u001b[0;34m\u001b[0m\u001b[0;34m\u001b[0m\u001b[0m\n\u001b[0m",
            "\u001b[0;31mTypeError\u001b[0m: doble() takes 1 positional argument but 2 were given"
          ]
        }
      ]
    },
    {
      "cell_type": "markdown",
      "source": [
        "Ejercicio, Crear una función que tome como valores de entrada coeficientes de una ecuación cuadrática y vuelva las raíces de dicha ecuación."
      ],
      "metadata": {
        "id": "xvF6tWl1XmOJ"
      }
    },
    {
      "cell_type": "code",
      "source": [
        "import math\n",
        "from math import sqrt, exp"
      ],
      "metadata": {
        "id": "ras8drALZ33Z"
      },
      "execution_count": null,
      "outputs": []
    },
    {
      "cell_type": "code",
      "source": [
        "sqrt (9)"
      ],
      "metadata": {
        "colab": {
          "base_uri": "https://localhost:8080/"
        },
        "id": "4r396a0gbJEq",
        "outputId": "f267be9a-2fdd-4081-a414-5f71880e5a06"
      },
      "execution_count": null,
      "outputs": [
        {
          "output_type": "execute_result",
          "data": {
            "text/plain": [
              "3.0"
            ]
          },
          "metadata": {},
          "execution_count": 23
        }
      ]
    },
    {
      "cell_type": "code",
      "source": [
        "def chicharronera(a,b,c):\n",
        "  # Calcula el discriminante\n",
        "  d = (b**2) - (4*a*c)\n",
        "\n",
        "  if d>=0:\n",
        "  # Soluciones\n",
        "    sol1 = (-b-sqrt(d))/(2*a)\n",
        "    sol2 = (-b+sqrt(d))/(2*a)\n",
        "    return sol1,sol2\n",
        "  else:\n",
        "    return \"Soluciones imaginarias\"\n",
        "\n",
        "chicharronera(1,4,1)"
      ],
      "metadata": {
        "colab": {
          "base_uri": "https://localhost:8080/"
        },
        "id": "TgkYuOsph48N",
        "outputId": "876bfdb1-3a66-44be-90a2-df9dcebe01aa"
      },
      "execution_count": null,
      "outputs": [
        {
          "output_type": "execute_result",
          "data": {
            "text/plain": [
              "(-3.732050807568877, -0.2679491924311228)"
            ]
          },
          "metadata": {},
          "execution_count": 25
        }
      ]
    },
    {
      "cell_type": "code",
      "source": [
        "def iv():\n",
        "  print('ivan gonzalez')"
      ],
      "metadata": {
        "id": "yNuJXtxbiB6Z"
      },
      "execution_count": null,
      "outputs": []
    },
    {
      "cell_type": "code",
      "source": [
        "iv()"
      ],
      "metadata": {
        "colab": {
          "base_uri": "https://localhost:8080/"
        },
        "id": "1mMb_YfSiN6m",
        "outputId": "ad5554dd-f84c-4e12-c199-e921eb34889c"
      },
      "execution_count": null,
      "outputs": [
        {
          "output_type": "stream",
          "name": "stdout",
          "text": [
            "ivan gonzalez\n"
          ]
        }
      ]
    }
  ]
}